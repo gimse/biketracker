{
 "cells": [
  {
   "cell_type": "code",
   "execution_count": 1,
   "metadata": {
    "ExecuteTime": {
     "end_time": "2020-05-28T08:04:32.688604Z",
     "start_time": "2020-05-28T08:04:32.679916Z"
    }
   },
   "outputs": [],
   "source": [
    "from ipyleaflet import (Map, GeoData, basemaps, WidgetControl, GeoJSON,\n",
    "                        LayersControl, Icon, Marker,basemap_to_tiles, Choropleth,\n",
    "                        MarkerCluster, Heatmap,SearchControl, \n",
    "                        FullScreenControl)\n",
    "\n",
    "from ipywidgets import Text, HTML\n",
    "from branca.colormap import linear\n",
    "import geopandas as gpd\n",
    "import pandas as pd\n",
    "import json\n",
    "from dotenv import load_dotenv\n",
    "load_dotenv()\n",
    "import requests\n",
    "from requests.auth import HTTPBasicAuth\n",
    "import os\n",
    "from shapely.geometry import Point\n",
    "from geopandas.tools import sjoin"
   ]
  },
  {
   "cell_type": "code",
   "execution_count": null,
   "metadata": {},
   "outputs": [],
   "source": [
    "url = os.getenv('COUCHDB_URL')+\"/bike_locations/_design/datetime_doc/_view/datetime-index?limit=10000&include_docs=true&descending=true\"\n",
    "\n",
    "payload={}\n",
    "response = requests.get(url, data=payload, auth=HTTPBasicAuth(os.getenv('COUCHDB_USER'), os.getenv('COUCHDB_PASSWORD')))\n",
    "\n",
    "data = [row['doc'] for row in response.json()['rows']]\n",
    "for d in data:\n",
    "    d.pop('_id', None)\n",
    "    d.pop('_rev', None)\n",
    "bike_locations_df = pd.DataFrame(data)\n",
    "bike_locations=gpd.GeoDataFrame(bike_locations_df, crs=4326, geometry=gpd.points_from_xy(bike_locations_df.lon, bike_locations_df.lat))\n",
    "bike_locations.drop(columns=['lat', 'lon'],inplace=True)\n",
    "print(len(bike_locations.index))\n",
    "bike_locations.head()"
   ]
  },
  {
   "cell_type": "code",
   "execution_count": null,
   "metadata": {},
   "outputs": [],
   "source": [
    "bike_locations[['operator','id_temp']] = bike_locations['id'].str.split(':', 1, expand=True)\n",
    "bike_locations.drop(columns=['id_temp'])\n",
    "bike_locations.head(2)\n"
   ]
  },
  {
   "cell_type": "code",
   "execution_count": null,
   "metadata": {},
   "outputs": [],
   "source": [
    "world = gpd.read_file(gpd.datasets.get_path('naturalearth_lowres'))\n",
    "country =  world[world.name == \"Norway\"]\n",
    "print(len(country.index))\n",
    "country.head()"
   ]
  },
  {
   "cell_type": "code",
   "execution_count": null,
   "metadata": {},
   "outputs": [],
   "source": [
    "bikes_in_country = sjoin(bike_locations,country, how='inner')\n",
    "bikes_in_country.head()"
   ]
  },
  {
   "cell_type": "code",
   "execution_count": null,
   "metadata": {
    "ExecuteTime": {
     "end_time": "2020-05-28T08:05:50.318631Z",
     "start_time": "2020-05-28T08:05:50.220491Z"
    }
   },
   "outputs": [],
   "source": [
    "country.plot()"
   ]
  },
  {
   "cell_type": "markdown",
   "metadata": {},
   "source": [
    "## Base maps, Markers & Icons\n"
   ]
  },
  {
   "cell_type": "code",
   "execution_count": null,
   "metadata": {
    "ExecuteTime": {
     "end_time": "2020-05-28T08:10:47.588262Z",
     "start_time": "2020-05-28T08:10:47.529878Z"
    }
   },
   "outputs": [],
   "source": [
    "bikes_in_country.plot()"
   ]
  },
  {
   "cell_type": "code",
   "execution_count": null,
   "metadata": {},
   "outputs": [],
   "source": [
    "bydeler=gpd.read_file('oslo_bydeler/bydeler_xls.shp')\n",
    "bydeler.head()"
   ]
  },
  {
   "cell_type": "code",
   "execution_count": null,
   "metadata": {},
   "outputs": [],
   "source": [
    "bydeler.plot()"
   ]
  },
  {
   "cell_type": "code",
   "execution_count": null,
   "metadata": {},
   "outputs": [],
   "source": [
    "bikes_in_oslo = sjoin(bike_locations,bydeler, how='left')\n",
    "bikes_in_oslo.head()"
   ]
  },
  {
   "cell_type": "code",
   "execution_count": null,
   "metadata": {},
   "outputs": [],
   "source": [
    "bydeler_with_bikes = sjoin(bydeler,bike_locations, how='inner')\n",
    "\n",
    "bydeler_with_bikes.head()"
   ]
  },
  {
   "cell_type": "code",
   "execution_count": null,
   "metadata": {},
   "outputs": [],
   "source": [
    "bike_count_per_bydel=bydeler_with_bikes.groupby('streng')['streng'].value_counts()\n",
    "bike_count_per_bydel.head()"
   ]
  },
  {
   "cell_type": "code",
   "execution_count": null,
   "metadata": {},
   "outputs": [],
   "source": [
    "dfsjoin = gpd.sjoin(bydeler, bike_locations) #Spatial join Points to polygons\n",
    "dfpivot = pd.pivot_table(dfsjoin,index='streng',columns='operator',aggfunc={'id':len})\n",
    "dfpivot.columns = dfpivot.columns.droplevel()\n",
    "\n",
    "dfpolynew = bydeler.merge(dfpivot, how='left', on='streng').fillna(0)\n",
    "dfpolynew.head(5)"
   ]
  },
  {
   "cell_type": "code",
   "execution_count": null,
   "metadata": {},
   "outputs": [],
   "source": [
    "max_count=dfpolynew[[\"YLI\",\"YTI\",\"YVO\"]].max().max()\n",
    "max_count"
   ]
  },
  {
   "cell_type": "code",
   "execution_count": null,
   "metadata": {},
   "outputs": [],
   "source": [
    "dfpolynew.plot(column='YLI',legend=True,vmax=max_count);"
   ]
  },
  {
   "cell_type": "code",
   "execution_count": null,
   "metadata": {},
   "outputs": [],
   "source": [
    "dfpolynew.plot(column='YLI',legend=True,vmax=max_count);"
   ]
  },
  {
   "cell_type": "code",
   "execution_count": null,
   "metadata": {},
   "outputs": [],
   "source": [
    "dfpolynew.plot(column='YVO',legend=True,vmax=max_count);"
   ]
  },
  {
   "cell_type": "code",
   "execution_count": null,
   "metadata": {},
   "outputs": [],
   "source": []
  },
  {
   "cell_type": "code",
   "execution_count": null,
   "metadata": {},
   "outputs": [],
   "source": []
  }
 ],
 "metadata": {
  "hide_input": false,
  "kernelspec": {
   "display_name": "Python 3 (ipykernel)",
   "language": "python",
   "name": "python3"
  },
  "language_info": {
   "codemirror_mode": {
    "name": "ipython",
    "version": 3
   },
   "file_extension": ".py",
   "mimetype": "text/x-python",
   "name": "python",
   "nbconvert_exporter": "python",
   "pygments_lexer": "ipython3",
   "version": "3.10.0"
  }
 },
 "nbformat": 4,
 "nbformat_minor": 4
}
