{
 "cells": [
  {
   "cell_type": "code",
   "execution_count": 1,
   "metadata": {
    "ExecuteTime": {
     "end_time": "2020-05-28T08:04:32.688604Z",
     "start_time": "2020-05-28T08:04:32.679916Z"
    }
   },
   "outputs": [],
   "source": [
    "from ipyleaflet import (Map, GeoData, basemaps, WidgetControl, GeoJSON,\n",
    "                        LayersControl, Icon, Marker,basemap_to_tiles, Choropleth,\n",
    "                        MarkerCluster, Heatmap,SearchControl, \n",
    "                        FullScreenControl)\n",
    "\n",
    "from ipywidgets import Text, HTML\n",
    "from branca.colormap import linear\n",
    "import geopandas as gpd\n",
    "import json"
   ]
  },
  {
   "cell_type": "code",
   "execution_count": 2,
   "metadata": {
    "ExecuteTime": {
     "end_time": "2020-05-28T08:05:21.183106Z",
     "start_time": "2020-05-28T08:05:05.418435Z"
    }
   },
   "outputs": [
    {
     "data": {
      "text/html": [
       "<div>\n",
       "<style scoped>\n",
       "    .dataframe tbody tr th:only-of-type {\n",
       "        vertical-align: middle;\n",
       "    }\n",
       "\n",
       "    .dataframe tbody tr th {\n",
       "        vertical-align: top;\n",
       "    }\n",
       "\n",
       "    .dataframe thead th {\n",
       "        text-align: right;\n",
       "    }\n",
       "</style>\n",
       "<table border=\"1\" class=\"dataframe\">\n",
       "  <thead>\n",
       "    <tr style=\"text-align: right;\">\n",
       "      <th></th>\n",
       "      <th>data_id</th>\n",
       "      <th>iso</th>\n",
       "      <th>event_id_c</th>\n",
       "      <th>event_id_n</th>\n",
       "      <th>event_date</th>\n",
       "      <th>year</th>\n",
       "      <th>time_preci</th>\n",
       "      <th>event_type</th>\n",
       "      <th>sub_event_</th>\n",
       "      <th>actor1</th>\n",
       "      <th>...</th>\n",
       "      <th>latitude</th>\n",
       "      <th>longitude</th>\n",
       "      <th>geo_precis</th>\n",
       "      <th>source</th>\n",
       "      <th>source_sca</th>\n",
       "      <th>notes</th>\n",
       "      <th>fatalities</th>\n",
       "      <th>timestamp</th>\n",
       "      <th>iso3</th>\n",
       "      <th>geometry</th>\n",
       "    </tr>\n",
       "  </thead>\n",
       "  <tbody>\n",
       "    <tr>\n",
       "      <th>0</th>\n",
       "      <td>6714129</td>\n",
       "      <td>706</td>\n",
       "      <td>SOM30213</td>\n",
       "      <td>30213</td>\n",
       "      <td>31 December 2019</td>\n",
       "      <td>2019</td>\n",
       "      <td>1</td>\n",
       "      <td>Battles</td>\n",
       "      <td>Armed clash</td>\n",
       "      <td>Al Shabaab</td>\n",
       "      <td>...</td>\n",
       "      <td>2.3963</td>\n",
       "      <td>45.0159</td>\n",
       "      <td>1</td>\n",
       "      <td>Undisclosed Source</td>\n",
       "      <td>Local partner-Other</td>\n",
       "      <td>31 December 2019. In Warmahan, Al Shabaab mili...</td>\n",
       "      <td>0</td>\n",
       "      <td>1578512393</td>\n",
       "      <td>SOM</td>\n",
       "      <td>POINT (45.01590 2.39630)</td>\n",
       "    </tr>\n",
       "    <tr>\n",
       "      <th>1</th>\n",
       "      <td>6723349</td>\n",
       "      <td>12</td>\n",
       "      <td>ALG7951</td>\n",
       "      <td>7951</td>\n",
       "      <td>31 December 2019</td>\n",
       "      <td>2019</td>\n",
       "      <td>1</td>\n",
       "      <td>Protests</td>\n",
       "      <td>Peaceful protest</td>\n",
       "      <td>Protesters (Algeria)</td>\n",
       "      <td>...</td>\n",
       "      <td>36.7525</td>\n",
       "      <td>3.0420</td>\n",
       "      <td>1</td>\n",
       "      <td>Liberte (Algeria); TSA Algerie; El Watan (Alge...</td>\n",
       "      <td>National</td>\n",
       "      <td>On 31 December 2019, students held their 45th ...</td>\n",
       "      <td>0</td>\n",
       "      <td>1579554007</td>\n",
       "      <td>DZA</td>\n",
       "      <td>POINT (3.04200 36.75250)</td>\n",
       "    </tr>\n",
       "    <tr>\n",
       "      <th>2</th>\n",
       "      <td>6723350</td>\n",
       "      <td>12</td>\n",
       "      <td>ALG7953</td>\n",
       "      <td>7953</td>\n",
       "      <td>31 December 2019</td>\n",
       "      <td>2019</td>\n",
       "      <td>1</td>\n",
       "      <td>Protests</td>\n",
       "      <td>Peaceful protest</td>\n",
       "      <td>Protesters (Algeria)</td>\n",
       "      <td>...</td>\n",
       "      <td>36.3650</td>\n",
       "      <td>6.6147</td>\n",
       "      <td>1</td>\n",
       "      <td>Liberte (Algeria); El Watan (Algeria)</td>\n",
       "      <td>National</td>\n",
       "      <td>On 31 December 2019, students held their 45th ...</td>\n",
       "      <td>0</td>\n",
       "      <td>1579554007</td>\n",
       "      <td>DZA</td>\n",
       "      <td>POINT (6.61470 36.36500)</td>\n",
       "    </tr>\n",
       "    <tr>\n",
       "      <th>3</th>\n",
       "      <td>6713368</td>\n",
       "      <td>404</td>\n",
       "      <td>KEN7182</td>\n",
       "      <td>7182</td>\n",
       "      <td>31 December 2019</td>\n",
       "      <td>2019</td>\n",
       "      <td>1</td>\n",
       "      <td>Violence against civilians</td>\n",
       "      <td>Attack</td>\n",
       "      <td>Police Forces of Kenya (2013-)</td>\n",
       "      <td>...</td>\n",
       "      <td>-3.3543</td>\n",
       "      <td>40.0209</td>\n",
       "      <td>1</td>\n",
       "      <td>Daily Nation (Kenya)</td>\n",
       "      <td>National</td>\n",
       "      <td>On December 31 2019, a suspected Al Shabaab re...</td>\n",
       "      <td>1</td>\n",
       "      <td>1578512391</td>\n",
       "      <td>KEN</td>\n",
       "      <td>POINT (40.02090 -3.35430)</td>\n",
       "    </tr>\n",
       "    <tr>\n",
       "      <th>4</th>\n",
       "      <td>6718756</td>\n",
       "      <td>180</td>\n",
       "      <td>DRC16324</td>\n",
       "      <td>16324</td>\n",
       "      <td>31 December 2019</td>\n",
       "      <td>2019</td>\n",
       "      <td>1</td>\n",
       "      <td>Battles</td>\n",
       "      <td>Armed clash</td>\n",
       "      <td>Military Forces of Democratic Republic of Cong...</td>\n",
       "      <td>...</td>\n",
       "      <td>-1.1869</td>\n",
       "      <td>29.4461</td>\n",
       "      <td>2</td>\n",
       "      <td>Kivu Security Tracker</td>\n",
       "      <td>Local partner-Other</td>\n",
       "      <td>On 31 December 2019, the FARDC attacked Mayi M...</td>\n",
       "      <td>0</td>\n",
       "      <td>1578943802</td>\n",
       "      <td>COD</td>\n",
       "      <td>POINT (29.44610 -1.18690)</td>\n",
       "    </tr>\n",
       "    <tr>\n",
       "      <th>...</th>\n",
       "      <td>...</td>\n",
       "      <td>...</td>\n",
       "      <td>...</td>\n",
       "      <td>...</td>\n",
       "      <td>...</td>\n",
       "      <td>...</td>\n",
       "      <td>...</td>\n",
       "      <td>...</td>\n",
       "      <td>...</td>\n",
       "      <td>...</td>\n",
       "      <td>...</td>\n",
       "      <td>...</td>\n",
       "      <td>...</td>\n",
       "      <td>...</td>\n",
       "      <td>...</td>\n",
       "      <td>...</td>\n",
       "      <td>...</td>\n",
       "      <td>...</td>\n",
       "      <td>...</td>\n",
       "      <td>...</td>\n",
       "      <td>...</td>\n",
       "    </tr>\n",
       "    <tr>\n",
       "      <th>23636</th>\n",
       "      <td>5242089</td>\n",
       "      <td>854</td>\n",
       "      <td>BFO1362</td>\n",
       "      <td>1362</td>\n",
       "      <td>01 January 2019</td>\n",
       "      <td>2019</td>\n",
       "      <td>1</td>\n",
       "      <td>Violence against civilians</td>\n",
       "      <td>Attack</td>\n",
       "      <td>Koglweogo Militia</td>\n",
       "      <td>...</td>\n",
       "      <td>13.8148</td>\n",
       "      <td>-0.9259</td>\n",
       "      <td>1</td>\n",
       "      <td>Le Faso; Ouaga24</td>\n",
       "      <td>National</td>\n",
       "      <td>On January 1, the Koglweogo killed 19 members ...</td>\n",
       "      <td>10</td>\n",
       "      <td>1561468964</td>\n",
       "      <td>BFA</td>\n",
       "      <td>POINT (-0.92590 13.81480)</td>\n",
       "    </tr>\n",
       "    <tr>\n",
       "      <th>23637</th>\n",
       "      <td>5242090</td>\n",
       "      <td>854</td>\n",
       "      <td>BFO1363</td>\n",
       "      <td>1363</td>\n",
       "      <td>01 January 2019</td>\n",
       "      <td>2019</td>\n",
       "      <td>1</td>\n",
       "      <td>Violence against civilians</td>\n",
       "      <td>Attack</td>\n",
       "      <td>Koglweogo Militia</td>\n",
       "      <td>...</td>\n",
       "      <td>13.8849</td>\n",
       "      <td>-0.9688</td>\n",
       "      <td>1</td>\n",
       "      <td>Le Faso; Ouaga24</td>\n",
       "      <td>National</td>\n",
       "      <td>On January 1, the Koglweogo killed 23 members ...</td>\n",
       "      <td>23</td>\n",
       "      <td>1561468964</td>\n",
       "      <td>BFA</td>\n",
       "      <td>POINT (-0.96880 13.88490)</td>\n",
       "    </tr>\n",
       "    <tr>\n",
       "      <th>23638</th>\n",
       "      <td>6410219</td>\n",
       "      <td>231</td>\n",
       "      <td>ETH5089</td>\n",
       "      <td>5089</td>\n",
       "      <td>01 January 2019</td>\n",
       "      <td>2019</td>\n",
       "      <td>1</td>\n",
       "      <td>Violence against civilians</td>\n",
       "      <td>Attack</td>\n",
       "      <td>Somali Ethnic Militia (Ethiopia)</td>\n",
       "      <td>...</td>\n",
       "      <td>9.5076</td>\n",
       "      <td>42.6068</td>\n",
       "      <td>2</td>\n",
       "      <td>Oromiya Media Network</td>\n",
       "      <td>International</td>\n",
       "      <td>01 January: In east Hararge zone, Chinaksen wo...</td>\n",
       "      <td>4</td>\n",
       "      <td>1575999996</td>\n",
       "      <td>ETH</td>\n",
       "      <td>POINT (42.60680 9.50760)</td>\n",
       "    </tr>\n",
       "    <tr>\n",
       "      <th>23639</th>\n",
       "      <td>6234348</td>\n",
       "      <td>728</td>\n",
       "      <td>SSD5556</td>\n",
       "      <td>5556</td>\n",
       "      <td>01 January 2019</td>\n",
       "      <td>2019</td>\n",
       "      <td>1</td>\n",
       "      <td>Explosions/Remote violence</td>\n",
       "      <td>Grenade</td>\n",
       "      <td>Military Forces of South Sudan (2011-)</td>\n",
       "      <td>...</td>\n",
       "      <td>4.8609</td>\n",
       "      <td>31.6178</td>\n",
       "      <td>1</td>\n",
       "      <td>Radio Tamazuj; Radio Miraya</td>\n",
       "      <td>National-Regional</td>\n",
       "      <td>On January 1st, a soldier threw a grenade into...</td>\n",
       "      <td>2</td>\n",
       "      <td>1572403614</td>\n",
       "      <td>SSD</td>\n",
       "      <td>POINT (31.61780 4.86090)</td>\n",
       "    </tr>\n",
       "    <tr>\n",
       "      <th>23640</th>\n",
       "      <td>6747640</td>\n",
       "      <td>466</td>\n",
       "      <td>MLI2555</td>\n",
       "      <td>2555</td>\n",
       "      <td>01 January 2019</td>\n",
       "      <td>2019</td>\n",
       "      <td>1</td>\n",
       "      <td>Violence against civilians</td>\n",
       "      <td>Attack</td>\n",
       "      <td>JNIM: Group for Support of Islam and Muslims</td>\n",
       "      <td>...</td>\n",
       "      <td>14.0775</td>\n",
       "      <td>-3.5159</td>\n",
       "      <td>2</td>\n",
       "      <td>Menastream; Studio Tamani</td>\n",
       "      <td>Local partner-New media</td>\n",
       "      <td>On January 1, presumed Katiba Macina militants...</td>\n",
       "      <td>1</td>\n",
       "      <td>1579637358</td>\n",
       "      <td>MLI</td>\n",
       "      <td>POINT (-3.51590 14.07750)</td>\n",
       "    </tr>\n",
       "  </tbody>\n",
       "</table>\n",
       "<p>23641 rows × 32 columns</p>\n",
       "</div>"
      ],
      "text/plain": [
       "       data_id  iso event_id_c  event_id_n        event_date  year  \\\n",
       "0      6714129  706   SOM30213       30213  31 December 2019  2019   \n",
       "1      6723349   12    ALG7951        7951  31 December 2019  2019   \n",
       "2      6723350   12    ALG7953        7953  31 December 2019  2019   \n",
       "3      6713368  404    KEN7182        7182  31 December 2019  2019   \n",
       "4      6718756  180   DRC16324       16324  31 December 2019  2019   \n",
       "...        ...  ...        ...         ...               ...   ...   \n",
       "23636  5242089  854    BFO1362        1362   01 January 2019  2019   \n",
       "23637  5242090  854    BFO1363        1363   01 January 2019  2019   \n",
       "23638  6410219  231    ETH5089        5089   01 January 2019  2019   \n",
       "23639  6234348  728    SSD5556        5556   01 January 2019  2019   \n",
       "23640  6747640  466    MLI2555        2555   01 January 2019  2019   \n",
       "\n",
       "       time_preci                  event_type        sub_event_  \\\n",
       "0               1                     Battles       Armed clash   \n",
       "1               1                    Protests  Peaceful protest   \n",
       "2               1                    Protests  Peaceful protest   \n",
       "3               1  Violence against civilians            Attack   \n",
       "4               1                     Battles       Armed clash   \n",
       "...           ...                         ...               ...   \n",
       "23636           1  Violence against civilians            Attack   \n",
       "23637           1  Violence against civilians            Attack   \n",
       "23638           1  Violence against civilians            Attack   \n",
       "23639           1  Explosions/Remote violence           Grenade   \n",
       "23640           1  Violence against civilians            Attack   \n",
       "\n",
       "                                                  actor1  ... latitude  \\\n",
       "0                                             Al Shabaab  ...   2.3963   \n",
       "1                                   Protesters (Algeria)  ...  36.7525   \n",
       "2                                   Protesters (Algeria)  ...  36.3650   \n",
       "3                         Police Forces of Kenya (2013-)  ...  -3.3543   \n",
       "4      Military Forces of Democratic Republic of Cong...  ...  -1.1869   \n",
       "...                                                  ...  ...      ...   \n",
       "23636                                  Koglweogo Militia  ...  13.8148   \n",
       "23637                                  Koglweogo Militia  ...  13.8849   \n",
       "23638                   Somali Ethnic Militia (Ethiopia)  ...   9.5076   \n",
       "23639             Military Forces of South Sudan (2011-)  ...   4.8609   \n",
       "23640       JNIM: Group for Support of Islam and Muslims  ...  14.0775   \n",
       "\n",
       "       longitude geo_precis  \\\n",
       "0        45.0159          1   \n",
       "1         3.0420          1   \n",
       "2         6.6147          1   \n",
       "3        40.0209          1   \n",
       "4        29.4461          2   \n",
       "...          ...        ...   \n",
       "23636    -0.9259          1   \n",
       "23637    -0.9688          1   \n",
       "23638    42.6068          2   \n",
       "23639    31.6178          1   \n",
       "23640    -3.5159          2   \n",
       "\n",
       "                                                  source  \\\n",
       "0                                     Undisclosed Source   \n",
       "1      Liberte (Algeria); TSA Algerie; El Watan (Alge...   \n",
       "2                  Liberte (Algeria); El Watan (Algeria)   \n",
       "3                                   Daily Nation (Kenya)   \n",
       "4                                  Kivu Security Tracker   \n",
       "...                                                  ...   \n",
       "23636                                   Le Faso; Ouaga24   \n",
       "23637                                   Le Faso; Ouaga24   \n",
       "23638                              Oromiya Media Network   \n",
       "23639                        Radio Tamazuj; Radio Miraya   \n",
       "23640                          Menastream; Studio Tamani   \n",
       "\n",
       "                    source_sca  \\\n",
       "0          Local partner-Other   \n",
       "1                     National   \n",
       "2                     National   \n",
       "3                     National   \n",
       "4          Local partner-Other   \n",
       "...                        ...   \n",
       "23636                 National   \n",
       "23637                 National   \n",
       "23638            International   \n",
       "23639        National-Regional   \n",
       "23640  Local partner-New media   \n",
       "\n",
       "                                                   notes fatalities  \\\n",
       "0      31 December 2019. In Warmahan, Al Shabaab mili...          0   \n",
       "1      On 31 December 2019, students held their 45th ...          0   \n",
       "2      On 31 December 2019, students held their 45th ...          0   \n",
       "3      On December 31 2019, a suspected Al Shabaab re...          1   \n",
       "4      On 31 December 2019, the FARDC attacked Mayi M...          0   \n",
       "...                                                  ...        ...   \n",
       "23636  On January 1, the Koglweogo killed 19 members ...         10   \n",
       "23637  On January 1, the Koglweogo killed 23 members ...         23   \n",
       "23638  01 January: In east Hararge zone, Chinaksen wo...          4   \n",
       "23639  On January 1st, a soldier threw a grenade into...          2   \n",
       "23640  On January 1, presumed Katiba Macina militants...          1   \n",
       "\n",
       "        timestamp iso3                   geometry  \n",
       "0      1578512393  SOM   POINT (45.01590 2.39630)  \n",
       "1      1579554007  DZA   POINT (3.04200 36.75250)  \n",
       "2      1579554007  DZA   POINT (6.61470 36.36500)  \n",
       "3      1578512391  KEN  POINT (40.02090 -3.35430)  \n",
       "4      1578943802  COD  POINT (29.44610 -1.18690)  \n",
       "...           ...  ...                        ...  \n",
       "23636  1561468964  BFA  POINT (-0.92590 13.81480)  \n",
       "23637  1561468964  BFA  POINT (-0.96880 13.88490)  \n",
       "23638  1575999996  ETH   POINT (42.60680 9.50760)  \n",
       "23639  1572403614  SSD   POINT (31.61780 4.86090)  \n",
       "23640  1579637358  MLI  POINT (-3.51590 14.07750)  \n",
       "\n",
       "[23641 rows x 32 columns]"
      ]
     },
     "execution_count": 2,
     "metadata": {},
     "output_type": "execute_result"
    }
   ],
   "source": [
    "# Countries\n",
    "countries = gpd.read_file(gpd.datasets.get_path('naturalearth_lowres'))\n",
    "\n",
    "# Conflict Dataset Points\n",
    "africa_acled = gpd.read_file(\n",
    "    \"data/acled2019.shp\",\n",
    "    mask = countries[countries[\"continent\"] == \"Africa\"]\n",
    ")\n",
    "africa_acled"
   ]
  },
  {
   "cell_type": "code",
   "execution_count": 3,
   "metadata": {
    "ExecuteTime": {
     "end_time": "2020-05-28T08:05:50.318631Z",
     "start_time": "2020-05-28T08:05:50.220491Z"
    }
   },
   "outputs": [
    {
     "data": {
      "text/html": [
       "<div>\n",
       "<style scoped>\n",
       "    .dataframe tbody tr th:only-of-type {\n",
       "        vertical-align: middle;\n",
       "    }\n",
       "\n",
       "    .dataframe tbody tr th {\n",
       "        vertical-align: top;\n",
       "    }\n",
       "\n",
       "    .dataframe thead th {\n",
       "        text-align: right;\n",
       "    }\n",
       "</style>\n",
       "<table border=\"1\" class=\"dataframe\">\n",
       "  <thead>\n",
       "    <tr style=\"text-align: right;\">\n",
       "      <th></th>\n",
       "      <th>data_id</th>\n",
       "      <th>iso</th>\n",
       "      <th>event_id_c</th>\n",
       "      <th>event_id_n</th>\n",
       "      <th>event_date</th>\n",
       "      <th>year</th>\n",
       "      <th>time_preci</th>\n",
       "      <th>event_type</th>\n",
       "      <th>sub_event_</th>\n",
       "      <th>actor1</th>\n",
       "      <th>...</th>\n",
       "      <th>latitude</th>\n",
       "      <th>longitude</th>\n",
       "      <th>geo_precis</th>\n",
       "      <th>source</th>\n",
       "      <th>source_sca</th>\n",
       "      <th>notes</th>\n",
       "      <th>fatalities</th>\n",
       "      <th>timestamp</th>\n",
       "      <th>iso3</th>\n",
       "      <th>geometry</th>\n",
       "    </tr>\n",
       "  </thead>\n",
       "  <tbody>\n",
       "    <tr>\n",
       "      <th>0</th>\n",
       "      <td>6714129</td>\n",
       "      <td>706</td>\n",
       "      <td>SOM30213</td>\n",
       "      <td>30213</td>\n",
       "      <td>31 December 2019</td>\n",
       "      <td>2019</td>\n",
       "      <td>1</td>\n",
       "      <td>Battles</td>\n",
       "      <td>Armed clash</td>\n",
       "      <td>Al Shabaab</td>\n",
       "      <td>...</td>\n",
       "      <td>2.3963</td>\n",
       "      <td>45.0159</td>\n",
       "      <td>1</td>\n",
       "      <td>Undisclosed Source</td>\n",
       "      <td>Local partner-Other</td>\n",
       "      <td>31 December 2019. In Warmahan, Al Shabaab mili...</td>\n",
       "      <td>0</td>\n",
       "      <td>1578512393</td>\n",
       "      <td>SOM</td>\n",
       "      <td>POINT (45.01590 2.39630)</td>\n",
       "    </tr>\n",
       "    <tr>\n",
       "      <th>1</th>\n",
       "      <td>6723349</td>\n",
       "      <td>12</td>\n",
       "      <td>ALG7951</td>\n",
       "      <td>7951</td>\n",
       "      <td>31 December 2019</td>\n",
       "      <td>2019</td>\n",
       "      <td>1</td>\n",
       "      <td>Protests</td>\n",
       "      <td>Peaceful protest</td>\n",
       "      <td>Protesters (Algeria)</td>\n",
       "      <td>...</td>\n",
       "      <td>36.7525</td>\n",
       "      <td>3.0420</td>\n",
       "      <td>1</td>\n",
       "      <td>Liberte (Algeria); TSA Algerie; El Watan (Alge...</td>\n",
       "      <td>National</td>\n",
       "      <td>On 31 December 2019, students held their 45th ...</td>\n",
       "      <td>0</td>\n",
       "      <td>1579554007</td>\n",
       "      <td>DZA</td>\n",
       "      <td>POINT (3.04200 36.75250)</td>\n",
       "    </tr>\n",
       "    <tr>\n",
       "      <th>2</th>\n",
       "      <td>6723350</td>\n",
       "      <td>12</td>\n",
       "      <td>ALG7953</td>\n",
       "      <td>7953</td>\n",
       "      <td>31 December 2019</td>\n",
       "      <td>2019</td>\n",
       "      <td>1</td>\n",
       "      <td>Protests</td>\n",
       "      <td>Peaceful protest</td>\n",
       "      <td>Protesters (Algeria)</td>\n",
       "      <td>...</td>\n",
       "      <td>36.3650</td>\n",
       "      <td>6.6147</td>\n",
       "      <td>1</td>\n",
       "      <td>Liberte (Algeria); El Watan (Algeria)</td>\n",
       "      <td>National</td>\n",
       "      <td>On 31 December 2019, students held their 45th ...</td>\n",
       "      <td>0</td>\n",
       "      <td>1579554007</td>\n",
       "      <td>DZA</td>\n",
       "      <td>POINT (6.61470 36.36500)</td>\n",
       "    </tr>\n",
       "    <tr>\n",
       "      <th>3</th>\n",
       "      <td>6713368</td>\n",
       "      <td>404</td>\n",
       "      <td>KEN7182</td>\n",
       "      <td>7182</td>\n",
       "      <td>31 December 2019</td>\n",
       "      <td>2019</td>\n",
       "      <td>1</td>\n",
       "      <td>Violence against civilians</td>\n",
       "      <td>Attack</td>\n",
       "      <td>Police Forces of Kenya (2013-)</td>\n",
       "      <td>...</td>\n",
       "      <td>-3.3543</td>\n",
       "      <td>40.0209</td>\n",
       "      <td>1</td>\n",
       "      <td>Daily Nation (Kenya)</td>\n",
       "      <td>National</td>\n",
       "      <td>On December 31 2019, a suspected Al Shabaab re...</td>\n",
       "      <td>1</td>\n",
       "      <td>1578512391</td>\n",
       "      <td>KEN</td>\n",
       "      <td>POINT (40.02090 -3.35430)</td>\n",
       "    </tr>\n",
       "    <tr>\n",
       "      <th>4</th>\n",
       "      <td>6718756</td>\n",
       "      <td>180</td>\n",
       "      <td>DRC16324</td>\n",
       "      <td>16324</td>\n",
       "      <td>31 December 2019</td>\n",
       "      <td>2019</td>\n",
       "      <td>1</td>\n",
       "      <td>Battles</td>\n",
       "      <td>Armed clash</td>\n",
       "      <td>Military Forces of Democratic Republic of Cong...</td>\n",
       "      <td>...</td>\n",
       "      <td>-1.1869</td>\n",
       "      <td>29.4461</td>\n",
       "      <td>2</td>\n",
       "      <td>Kivu Security Tracker</td>\n",
       "      <td>Local partner-Other</td>\n",
       "      <td>On 31 December 2019, the FARDC attacked Mayi M...</td>\n",
       "      <td>0</td>\n",
       "      <td>1578943802</td>\n",
       "      <td>COD</td>\n",
       "      <td>POINT (29.44610 -1.18690)</td>\n",
       "    </tr>\n",
       "  </tbody>\n",
       "</table>\n",
       "<p>5 rows × 32 columns</p>\n",
       "</div>"
      ],
      "text/plain": [
       "   data_id  iso event_id_c  event_id_n        event_date  year  time_preci  \\\n",
       "0  6714129  706   SOM30213       30213  31 December 2019  2019           1   \n",
       "1  6723349   12    ALG7951        7951  31 December 2019  2019           1   \n",
       "2  6723350   12    ALG7953        7953  31 December 2019  2019           1   \n",
       "3  6713368  404    KEN7182        7182  31 December 2019  2019           1   \n",
       "4  6718756  180   DRC16324       16324  31 December 2019  2019           1   \n",
       "\n",
       "                   event_type        sub_event_  \\\n",
       "0                     Battles       Armed clash   \n",
       "1                    Protests  Peaceful protest   \n",
       "2                    Protests  Peaceful protest   \n",
       "3  Violence against civilians            Attack   \n",
       "4                     Battles       Armed clash   \n",
       "\n",
       "                                              actor1  ... latitude  longitude  \\\n",
       "0                                         Al Shabaab  ...   2.3963    45.0159   \n",
       "1                               Protesters (Algeria)  ...  36.7525     3.0420   \n",
       "2                               Protesters (Algeria)  ...  36.3650     6.6147   \n",
       "3                     Police Forces of Kenya (2013-)  ...  -3.3543    40.0209   \n",
       "4  Military Forces of Democratic Republic of Cong...  ...  -1.1869    29.4461   \n",
       "\n",
       "  geo_precis                                             source  \\\n",
       "0          1                                 Undisclosed Source   \n",
       "1          1  Liberte (Algeria); TSA Algerie; El Watan (Alge...   \n",
       "2          1              Liberte (Algeria); El Watan (Algeria)   \n",
       "3          1                               Daily Nation (Kenya)   \n",
       "4          2                              Kivu Security Tracker   \n",
       "\n",
       "            source_sca                                              notes  \\\n",
       "0  Local partner-Other  31 December 2019. In Warmahan, Al Shabaab mili...   \n",
       "1             National  On 31 December 2019, students held their 45th ...   \n",
       "2             National  On 31 December 2019, students held their 45th ...   \n",
       "3             National  On December 31 2019, a suspected Al Shabaab re...   \n",
       "4  Local partner-Other  On 31 December 2019, the FARDC attacked Mayi M...   \n",
       "\n",
       "  fatalities   timestamp iso3                   geometry  \n",
       "0          0  1578512393  SOM   POINT (45.01590 2.39630)  \n",
       "1          0  1579554007  DZA   POINT (3.04200 36.75250)  \n",
       "2          0  1579554007  DZA   POINT (6.61470 36.36500)  \n",
       "3          1  1578512391  KEN  POINT (40.02090 -3.35430)  \n",
       "4          0  1578943802  COD  POINT (29.44610 -1.18690)  \n",
       "\n",
       "[5 rows x 32 columns]"
      ]
     },
     "execution_count": 3,
     "metadata": {},
     "output_type": "execute_result"
    }
   ],
   "source": [
    "africa_acled.head()"
   ]
  },
  {
   "cell_type": "markdown",
   "metadata": {},
   "source": [
    "## Base maps, Markers & Icons\n"
   ]
  },
  {
   "cell_type": "code",
   "execution_count": 4,
   "metadata": {
    "ExecuteTime": {
     "end_time": "2020-05-28T08:10:47.588262Z",
     "start_time": "2020-05-28T08:10:47.529878Z"
    }
   },
   "outputs": [
    {
     "data": {
      "application/vnd.jupyter.widget-view+json": {
       "model_id": "40287998882b432da3390b13b776a237",
       "version_major": 2,
       "version_minor": 0
      },
      "text/plain": [
       "Map(center=[57.71, 11.98], controls=(ZoomControl(options=['position', 'zoom_in_text', 'zoom_in_title', 'zoom_o…"
      ]
     },
     "metadata": {},
     "output_type": "display_data"
    }
   ],
   "source": [
    "center = [57.71, 11.98]\n",
    "zoom = 12\n",
    "\n",
    "m = Map(basemap=basemaps.Esri.WorldImagery, center=center, zoom=zoom)\n",
    "m"
   ]
  },
  {
   "cell_type": "code",
   "execution_count": 5,
   "metadata": {
    "ExecuteTime": {
     "end_time": "2020-05-28T08:19:28.971066Z",
     "start_time": "2020-05-28T08:19:28.956150Z"
    }
   },
   "outputs": [],
   "source": [
    "stamen = basemap_to_tiles(basemaps.Stamen.Toner)\n",
    "m.add_layer(stamen)"
   ]
  },
  {
   "cell_type": "code",
   "execution_count": 6,
   "metadata": {
    "ExecuteTime": {
     "end_time": "2020-05-28T08:24:53.071299Z",
     "start_time": "2020-05-28T08:24:53.049057Z"
    }
   },
   "outputs": [
    {
     "data": {
      "application/vnd.jupyter.widget-view+json": {
       "model_id": "40287998882b432da3390b13b776a237",
       "version_major": 2,
       "version_minor": 0
      },
      "text/plain": [
       "Map(center=[57.71, 11.98], controls=(ZoomControl(options=['position', 'zoom_in_text', 'zoom_in_title', 'zoom_o…"
      ]
     },
     "metadata": {},
     "output_type": "display_data"
    }
   ],
   "source": [
    "marker = Marker(location=center, draggable=False)\n",
    "m.add_layer(marker);\n",
    "\n",
    "m"
   ]
  },
  {
   "cell_type": "code",
   "execution_count": 7,
   "metadata": {
    "ExecuteTime": {
     "end_time": "2020-05-28T08:35:55.782974Z",
     "start_time": "2020-05-28T08:35:55.755064Z"
    }
   },
   "outputs": [
    {
     "data": {
      "application/vnd.jupyter.widget-view+json": {
       "model_id": "40287998882b432da3390b13b776a237",
       "version_major": 2,
       "version_minor": 0
      },
      "text/plain": [
       "Map(center=[57.71, 11.98], controls=(ZoomControl(options=['position', 'zoom_in_text', 'zoom_in_title', 'zoom_o…"
      ]
     },
     "metadata": {},
     "output_type": "display_data"
    }
   ],
   "source": [
    "icon_url = \"http://icons.iconarchive.com/icons/pelfusion/long-shadow-media/512/Maps-Pin-Place-icon.png\"\n",
    "\n",
    "icon = Icon(icon_url=icon_url)\n",
    "mark = Marker(location=[57.719503, 12.008843], icon=icon, rotation_angle=0,  rotation_origin='1280px 128px')\n",
    "m.add_layer(mark);\n",
    "m"
   ]
  },
  {
   "cell_type": "markdown",
   "metadata": {},
   "source": [
    "## Geodata and Map Styles"
   ]
  },
  {
   "cell_type": "code",
   "execution_count": 8,
   "metadata": {
    "ExecuteTime": {
     "end_time": "2020-05-28T08:49:03.717119Z",
     "start_time": "2020-05-28T08:49:03.485487Z"
    }
   },
   "outputs": [
    {
     "data": {
      "application/vnd.jupyter.widget-view+json": {
       "model_id": "0ea3cfeb6f11435eb9736fcbf3ff7426",
       "version_major": 2,
       "version_minor": 0
      },
      "text/plain": [
       "Map(center=[4.546647, 22.373178], controls=(ZoomControl(options=['position', 'zoom_in_text', 'zoom_in_title', …"
      ]
     },
     "metadata": {},
     "output_type": "display_data"
    }
   ],
   "source": [
    "center = [4.546647, 22.373178]\n",
    "zoom = 2\n",
    "\n",
    "africa = countries[countries[\"continent\"] == \"Africa\"]\n",
    "africaMap = Map(basemap=basemaps.CartoDB.Positron, center=center, zoom=zoom)\n",
    "geodata = GeoData(geo_dataframe = africa, \n",
    "                   style={'color': 'black', 'fillColor': '#E0D071', 'opacity':0.03, 'weight':1.9, 'dashArray':'2', 'fillOpacity':0.6},\n",
    "                   hover_style={'fillColor': '#b08a3e' , 'fillOpacity': 0.8},\n",
    "                   name = 'Countries')\n",
    "\n",
    "\n",
    "africaMap.add_layer(geodata)\n",
    "africaMap"
   ]
  },
  {
   "cell_type": "code",
   "execution_count": 9,
   "metadata": {
    "ExecuteTime": {
     "end_time": "2020-05-28T08:58:19.997484Z",
     "start_time": "2020-05-28T08:58:19.969600Z"
    }
   },
   "outputs": [],
   "source": [
    "html = HTML('''Hover Over Countries''')\n",
    "html.layout.margin = '0px 20px 20px 20px'\n",
    "control = WidgetControl(widget=html, position='topright')\n",
    "africaMap.add_control(control)\n",
    "\n",
    "def update_html(feature,  **kwargs):\n",
    "    html.value = '''\n",
    "        <h3><b>{}</b></h3>\n",
    "        <h4>GDP: {:.2e} people</h4> \n",
    "        <h4>Population: {}</h4>\n",
    "    '''.format(feature['properties']['name'],\n",
    "               feature['properties']['gdp_md_est'],\n",
    "               feature['properties']['pop_est'])\n",
    "\n",
    "geodata.on_hover(update_html)"
   ]
  },
  {
   "cell_type": "markdown",
   "metadata": {
    "ExecuteTime": {
     "end_time": "2020-05-28T09:03:52.785966Z",
     "start_time": "2020-05-28T09:03:52.780979Z"
    }
   },
   "source": [
    "### Choropleth Map"
   ]
  },
  {
   "cell_type": "code",
   "execution_count": 10,
   "metadata": {
    "ExecuteTime": {
     "end_time": "2020-05-28T09:04:31.863625Z",
     "start_time": "2020-05-28T09:04:31.700484Z"
    }
   },
   "outputs": [],
   "source": [
    "africa.at[60,'name']=\"Ivory Coast\"\n",
    "pop =  dict(zip(africa['name'].tolist(), africa['pop_est'].tolist()))\n",
    "africa[[\"name\", \"geometry\"]].to_file(\"data/africa.json\", driver=\"GeoJSON\", encoding='utf-8')\n",
    "geojson_data = json.load(open(\"data/africa.json\",'r'))"
   ]
  },
  {
   "cell_type": "code",
   "execution_count": 11,
   "metadata": {
    "ExecuteTime": {
     "end_time": "2020-05-28T09:04:44.636123Z",
     "start_time": "2020-05-28T09:04:44.629141Z"
    }
   },
   "outputs": [],
   "source": [
    "for feature in geojson_data['features']:\n",
    "    properties = feature['properties']\n",
    "    feature.update(id=properties['name'])\n",
    "    #print(feature['id'])"
   ]
  },
  {
   "cell_type": "code",
   "execution_count": 12,
   "metadata": {
    "ExecuteTime": {
     "end_time": "2020-05-28T09:04:54.097330Z",
     "start_time": "2020-05-28T09:04:53.919808Z"
    }
   },
   "outputs": [],
   "source": [
    "choroplethData = Choropleth(\n",
    "    geo_data=geojson_data,\n",
    "    choro_data=pop,\n",
    "    colormap=linear.YlOrRd_04,\n",
    "    style={'fillOpacity': 0.8, 'dashArray': '5, 5'}\n",
    ")"
   ]
  },
  {
   "cell_type": "code",
   "execution_count": 13,
   "metadata": {
    "ExecuteTime": {
     "end_time": "2020-05-28T09:05:05.712925Z",
     "start_time": "2020-05-28T09:05:05.670074Z"
    }
   },
   "outputs": [
    {
     "data": {
      "application/vnd.jupyter.widget-view+json": {
       "model_id": "fbaff5e3ce5149fda3acce87c6a179c6",
       "version_major": 2,
       "version_minor": 0
      },
      "text/plain": [
       "Map(center=[4.546647, 22.373178], controls=(ZoomControl(options=['position', 'zoom_in_text', 'zoom_in_title', …"
      ]
     },
     "metadata": {},
     "output_type": "display_data"
    }
   ],
   "source": [
    "choro_map = Map(center = (4.546647, 22.373178), zoom = 2)\n",
    "choro_map.add_layer(choroplethData)\n",
    "choro_map"
   ]
  },
  {
   "cell_type": "markdown",
   "metadata": {},
   "source": [
    "### Clustered Maps"
   ]
  },
  {
   "cell_type": "code",
   "execution_count": 14,
   "metadata": {
    "ExecuteTime": {
     "end_time": "2020-05-28T09:19:44.259317Z",
     "start_time": "2020-05-28T09:19:43.677638Z"
    }
   },
   "outputs": [
    {
     "data": {
      "application/vnd.jupyter.widget-view+json": {
       "model_id": "bae9156e8664419db9f825d3c960af6d",
       "version_major": 2,
       "version_minor": 0
      },
      "text/plain": [
       "Map(center=[4.546647, 22.373178], controls=(ZoomControl(options=['position', 'zoom_in_text', 'zoom_in_title', …"
      ]
     },
     "metadata": {},
     "output_type": "display_data"
    }
   ],
   "source": [
    "pointsMap = Map(basemap=basemaps.CartoDB.Positron, center=center, zoom=zoom)\n",
    "PointData = GeoData(geo_dataframe = africa_acled.sample(500), name = 'Countries')\n",
    "\n",
    "\n",
    "pointsMap.add_layer(PointData)\n",
    "pointsMap"
   ]
  },
  {
   "cell_type": "code",
   "execution_count": 15,
   "metadata": {
    "ExecuteTime": {
     "end_time": "2020-05-28T09:38:43.059096Z",
     "start_time": "2020-05-28T09:38:39.732989Z"
    }
   },
   "outputs": [
    {
     "data": {
      "application/vnd.jupyter.widget-view+json": {
       "model_id": "3894539efddb44d089a5b5231f795820",
       "version_major": 2,
       "version_minor": 0
      },
      "text/plain": [
       "Map(center=[4.546647, 22.373178], controls=(ZoomControl(options=['position', 'zoom_in_text', 'zoom_in_title', …"
      ]
     },
     "metadata": {},
     "output_type": "display_data"
    }
   ],
   "source": [
    "\n",
    "clusterMap = Map(center=center, zoom=zoom)\n",
    "clusterMap.add_layer(MarkerCluster(\n",
    "    markers=[Marker(location=geolocation.coords[0][::-1]) for geolocation in africa_acled.sample(1000).geometry])\n",
    "    )\n",
    "clusterMap"
   ]
  },
  {
   "cell_type": "markdown",
   "metadata": {},
   "source": [
    "## Controls"
   ]
  },
  {
   "cell_type": "code",
   "execution_count": 16,
   "metadata": {
    "ExecuteTime": {
     "end_time": "2020-05-28T09:38:54.811553Z",
     "start_time": "2020-05-28T09:38:54.541277Z"
    }
   },
   "outputs": [
    {
     "data": {
      "application/vnd.jupyter.widget-view+json": {
       "model_id": "3894539efddb44d089a5b5231f795820",
       "version_major": 2,
       "version_minor": 0
      },
      "text/plain": [
       "Map(center=[4.546647, 22.373178], controls=(ZoomControl(options=['position', 'zoom_in_text', 'zoom_in_title', …"
      ]
     },
     "metadata": {},
     "output_type": "display_data"
    }
   ],
   "source": [
    "search = SearchControl(position=\"topleft\", \n",
    "                       url='https://nominatim.openstreetmap.org/search?format=json&q={s}', \n",
    "                       zoom=5,\n",
    "                       property_name='display_name',\n",
    "                       marker=marker\n",
    "                      )\n",
    "clusterMap.add_control(search)\n",
    "\n",
    "clusterMap"
   ]
  },
  {
   "cell_type": "code",
   "execution_count": 17,
   "metadata": {
    "ExecuteTime": {
     "end_time": "2020-05-28T09:38:59.077334Z",
     "start_time": "2020-05-28T09:38:59.069357Z"
    }
   },
   "outputs": [],
   "source": [
    "control = FullScreenControl()\n",
    "clusterMap.add_control(control)"
   ]
  },
  {
   "cell_type": "code",
   "execution_count": null,
   "metadata": {},
   "outputs": [],
   "source": []
  }
 ],
 "metadata": {
  "hide_input": false,
  "kernelspec": {
   "display_name": "Python 3 (ipykernel)",
   "language": "python",
   "name": "python3"
  },
  "language_info": {
   "codemirror_mode": {
    "name": "ipython",
    "version": 3
   },
   "file_extension": ".py",
   "mimetype": "text/x-python",
   "name": "python",
   "nbconvert_exporter": "python",
   "pygments_lexer": "ipython3",
   "version": "3.10.0"
  }
 },
 "nbformat": 4,
 "nbformat_minor": 4
}
